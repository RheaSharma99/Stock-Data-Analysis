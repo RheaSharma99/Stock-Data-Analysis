{
  "nbformat": 4,
  "nbformat_minor": 0,
  "metadata": {
    "colab": {
      "name": "Stock Data Analysis.ipynb",
      "provenance": [],
      "toc_visible": true
    },
    "kernelspec": {
      "name": "python3",
      "display_name": "Python 3"
    }
  },
  "cells": [
    {
      "cell_type": "markdown",
      "metadata": {
        "id": "86EhTWxwHWC0"
      },
      "source": [
        "# Performing Expoloratory Data Analysis on Stock Data\n"
      ]
    },
    {
      "cell_type": "markdown",
      "metadata": {
        "id": "1nJfM0oYHpDQ"
      },
      "source": [
        "Importing Datasets and Libraries"
      ]
    },
    {
      "cell_type": "code",
      "metadata": {
        "id": "D-RlBI9SHoLE",
        "outputId": "9abce125-0d54-4eaa-a335-baa026813d8a",
        "colab": {
          "base_uri": "https://localhost:8080/",
          "height": 34
        }
      },
      "source": [
        "# Mount the drive\n",
        "from google.colab import drive\n",
        "drive.mount('/content/drive')\n"
      ],
      "execution_count": 2,
      "outputs": [
        {
          "output_type": "stream",
          "text": [
            "Mounted at /content/drive\n"
          ],
          "name": "stdout"
        }
      ]
    },
    {
      "cell_type": "code",
      "metadata": {
        "id": "ixbdLOQ_Hz3r"
      },
      "source": [
        "import pandas as pd\n",
        "import matplotlib.pyplot as plt\n",
        "import numpy as np\n",
        "import seaborn as sns\n",
        "from copy import copy\n",
        "from scipy import stats\n",
        "import plotly.express as px\n",
        "import plotly.figure_factory as ff\n",
        "import plotly.graph_objects as go"
      ],
      "execution_count": 4,
      "outputs": []
    },
    {
      "cell_type": "code",
      "metadata": {
        "id": "P4u8cCmjH2Yc",
        "outputId": "5b59670c-5a10-4555-e79b-a078c02c96fb",
        "colab": {
          "base_uri": "https://localhost:8080/",
          "height": 419
        }
      },
      "source": [
        "# Read the stock data csv file, here's the list of the stocks considered:\n",
        "stocks_df = pd.read_csv('/content/drive/My Drive/ 2020-2021 Semester 1/Extras/Project/1. Stock Data Analysis/stock.csv')\n",
        "stocks_df"
      ],
      "execution_count": 5,
      "outputs": [
        {
          "output_type": "execute_result",
          "data": {
            "text/html": [
              "<div>\n",
              "<style scoped>\n",
              "    .dataframe tbody tr th:only-of-type {\n",
              "        vertical-align: middle;\n",
              "    }\n",
              "\n",
              "    .dataframe tbody tr th {\n",
              "        vertical-align: top;\n",
              "    }\n",
              "\n",
              "    .dataframe thead th {\n",
              "        text-align: right;\n",
              "    }\n",
              "</style>\n",
              "<table border=\"1\" class=\"dataframe\">\n",
              "  <thead>\n",
              "    <tr style=\"text-align: right;\">\n",
              "      <th></th>\n",
              "      <th>Date</th>\n",
              "      <th>AAPL</th>\n",
              "      <th>BA</th>\n",
              "      <th>T</th>\n",
              "      <th>MGM</th>\n",
              "      <th>AMZN</th>\n",
              "      <th>IBM</th>\n",
              "      <th>TSLA</th>\n",
              "      <th>GOOG</th>\n",
              "      <th>sp500</th>\n",
              "    </tr>\n",
              "  </thead>\n",
              "  <tbody>\n",
              "    <tr>\n",
              "      <th>0</th>\n",
              "      <td>2012-01-12</td>\n",
              "      <td>60.198570</td>\n",
              "      <td>75.510002</td>\n",
              "      <td>30.120001</td>\n",
              "      <td>12.130000</td>\n",
              "      <td>175.929993</td>\n",
              "      <td>180.550003</td>\n",
              "      <td>28.250000</td>\n",
              "      <td>313.644379</td>\n",
              "      <td>1295.500000</td>\n",
              "    </tr>\n",
              "    <tr>\n",
              "      <th>1</th>\n",
              "      <td>2012-01-13</td>\n",
              "      <td>59.972858</td>\n",
              "      <td>74.599998</td>\n",
              "      <td>30.070000</td>\n",
              "      <td>12.350000</td>\n",
              "      <td>178.419998</td>\n",
              "      <td>179.160004</td>\n",
              "      <td>22.790001</td>\n",
              "      <td>311.328064</td>\n",
              "      <td>1289.089966</td>\n",
              "    </tr>\n",
              "    <tr>\n",
              "      <th>2</th>\n",
              "      <td>2012-01-17</td>\n",
              "      <td>60.671429</td>\n",
              "      <td>75.239998</td>\n",
              "      <td>30.250000</td>\n",
              "      <td>12.250000</td>\n",
              "      <td>181.660004</td>\n",
              "      <td>180.000000</td>\n",
              "      <td>26.600000</td>\n",
              "      <td>313.116364</td>\n",
              "      <td>1293.670044</td>\n",
              "    </tr>\n",
              "    <tr>\n",
              "      <th>3</th>\n",
              "      <td>2012-01-18</td>\n",
              "      <td>61.301430</td>\n",
              "      <td>75.059998</td>\n",
              "      <td>30.330000</td>\n",
              "      <td>12.730000</td>\n",
              "      <td>189.440002</td>\n",
              "      <td>181.070007</td>\n",
              "      <td>26.809999</td>\n",
              "      <td>315.273285</td>\n",
              "      <td>1308.040039</td>\n",
              "    </tr>\n",
              "    <tr>\n",
              "      <th>4</th>\n",
              "      <td>2012-01-19</td>\n",
              "      <td>61.107143</td>\n",
              "      <td>75.559998</td>\n",
              "      <td>30.420000</td>\n",
              "      <td>12.800000</td>\n",
              "      <td>194.449997</td>\n",
              "      <td>180.520004</td>\n",
              "      <td>26.760000</td>\n",
              "      <td>318.590851</td>\n",
              "      <td>1314.500000</td>\n",
              "    </tr>\n",
              "    <tr>\n",
              "      <th>...</th>\n",
              "      <td>...</td>\n",
              "      <td>...</td>\n",
              "      <td>...</td>\n",
              "      <td>...</td>\n",
              "      <td>...</td>\n",
              "      <td>...</td>\n",
              "      <td>...</td>\n",
              "      <td>...</td>\n",
              "      <td>...</td>\n",
              "      <td>...</td>\n",
              "    </tr>\n",
              "    <tr>\n",
              "      <th>2154</th>\n",
              "      <td>2020-08-05</td>\n",
              "      <td>440.250000</td>\n",
              "      <td>174.279999</td>\n",
              "      <td>29.850000</td>\n",
              "      <td>16.719999</td>\n",
              "      <td>3205.030029</td>\n",
              "      <td>125.449997</td>\n",
              "      <td>1485.020020</td>\n",
              "      <td>1473.609985</td>\n",
              "      <td>3327.770020</td>\n",
              "    </tr>\n",
              "    <tr>\n",
              "      <th>2155</th>\n",
              "      <td>2020-08-06</td>\n",
              "      <td>455.609985</td>\n",
              "      <td>172.199997</td>\n",
              "      <td>29.840000</td>\n",
              "      <td>18.459999</td>\n",
              "      <td>3225.000000</td>\n",
              "      <td>126.120003</td>\n",
              "      <td>1489.579956</td>\n",
              "      <td>1500.099976</td>\n",
              "      <td>3349.159912</td>\n",
              "    </tr>\n",
              "    <tr>\n",
              "      <th>2156</th>\n",
              "      <td>2020-08-07</td>\n",
              "      <td>444.450012</td>\n",
              "      <td>170.020004</td>\n",
              "      <td>30.020000</td>\n",
              "      <td>19.030001</td>\n",
              "      <td>3167.459961</td>\n",
              "      <td>124.959999</td>\n",
              "      <td>1452.709961</td>\n",
              "      <td>1494.489990</td>\n",
              "      <td>3351.280029</td>\n",
              "    </tr>\n",
              "    <tr>\n",
              "      <th>2157</th>\n",
              "      <td>2020-08-10</td>\n",
              "      <td>450.910004</td>\n",
              "      <td>179.410004</td>\n",
              "      <td>30.200001</td>\n",
              "      <td>21.650000</td>\n",
              "      <td>3148.159912</td>\n",
              "      <td>127.110001</td>\n",
              "      <td>1418.569946</td>\n",
              "      <td>1496.099976</td>\n",
              "      <td>3360.469971</td>\n",
              "    </tr>\n",
              "    <tr>\n",
              "      <th>2158</th>\n",
              "      <td>2020-08-11</td>\n",
              "      <td>437.500000</td>\n",
              "      <td>180.130005</td>\n",
              "      <td>30.200001</td>\n",
              "      <td>21.500000</td>\n",
              "      <td>3080.669922</td>\n",
              "      <td>126.750000</td>\n",
              "      <td>1374.390015</td>\n",
              "      <td>1480.319946</td>\n",
              "      <td>3333.689941</td>\n",
              "    </tr>\n",
              "  </tbody>\n",
              "</table>\n",
              "<p>2159 rows × 10 columns</p>\n",
              "</div>"
            ],
            "text/plain": [
              "            Date        AAPL          BA  ...         TSLA         GOOG        sp500\n",
              "0     2012-01-12   60.198570   75.510002  ...    28.250000   313.644379  1295.500000\n",
              "1     2012-01-13   59.972858   74.599998  ...    22.790001   311.328064  1289.089966\n",
              "2     2012-01-17   60.671429   75.239998  ...    26.600000   313.116364  1293.670044\n",
              "3     2012-01-18   61.301430   75.059998  ...    26.809999   315.273285  1308.040039\n",
              "4     2012-01-19   61.107143   75.559998  ...    26.760000   318.590851  1314.500000\n",
              "...          ...         ...         ...  ...          ...          ...          ...\n",
              "2154  2020-08-05  440.250000  174.279999  ...  1485.020020  1473.609985  3327.770020\n",
              "2155  2020-08-06  455.609985  172.199997  ...  1489.579956  1500.099976  3349.159912\n",
              "2156  2020-08-07  444.450012  170.020004  ...  1452.709961  1494.489990  3351.280029\n",
              "2157  2020-08-10  450.910004  179.410004  ...  1418.569946  1496.099976  3360.469971\n",
              "2158  2020-08-11  437.500000  180.130005  ...  1374.390015  1480.319946  3333.689941\n",
              "\n",
              "[2159 rows x 10 columns]"
            ]
          },
          "metadata": {
            "tags": []
          },
          "execution_count": 5
        }
      ]
    },
    {
      "cell_type": "code",
      "metadata": {
        "id": "s7T0aNVDIlcF",
        "outputId": "855de5c0-7ec7-4a43-b970-83b5a9c9d805",
        "colab": {
          "base_uri": "https://localhost:8080/",
          "height": 419
        }
      },
      "source": [
        "# Sort the stock data by date\n",
        "stocks_df = stocks_df.sort_values(by = 'Date')\n",
        "stocks_df"
      ],
      "execution_count": 6,
      "outputs": [
        {
          "output_type": "execute_result",
          "data": {
            "text/html": [
              "<div>\n",
              "<style scoped>\n",
              "    .dataframe tbody tr th:only-of-type {\n",
              "        vertical-align: middle;\n",
              "    }\n",
              "\n",
              "    .dataframe tbody tr th {\n",
              "        vertical-align: top;\n",
              "    }\n",
              "\n",
              "    .dataframe thead th {\n",
              "        text-align: right;\n",
              "    }\n",
              "</style>\n",
              "<table border=\"1\" class=\"dataframe\">\n",
              "  <thead>\n",
              "    <tr style=\"text-align: right;\">\n",
              "      <th></th>\n",
              "      <th>Date</th>\n",
              "      <th>AAPL</th>\n",
              "      <th>BA</th>\n",
              "      <th>T</th>\n",
              "      <th>MGM</th>\n",
              "      <th>AMZN</th>\n",
              "      <th>IBM</th>\n",
              "      <th>TSLA</th>\n",
              "      <th>GOOG</th>\n",
              "      <th>sp500</th>\n",
              "    </tr>\n",
              "  </thead>\n",
              "  <tbody>\n",
              "    <tr>\n",
              "      <th>0</th>\n",
              "      <td>2012-01-12</td>\n",
              "      <td>60.198570</td>\n",
              "      <td>75.510002</td>\n",
              "      <td>30.120001</td>\n",
              "      <td>12.130000</td>\n",
              "      <td>175.929993</td>\n",
              "      <td>180.550003</td>\n",
              "      <td>28.250000</td>\n",
              "      <td>313.644379</td>\n",
              "      <td>1295.500000</td>\n",
              "    </tr>\n",
              "    <tr>\n",
              "      <th>1</th>\n",
              "      <td>2012-01-13</td>\n",
              "      <td>59.972858</td>\n",
              "      <td>74.599998</td>\n",
              "      <td>30.070000</td>\n",
              "      <td>12.350000</td>\n",
              "      <td>178.419998</td>\n",
              "      <td>179.160004</td>\n",
              "      <td>22.790001</td>\n",
              "      <td>311.328064</td>\n",
              "      <td>1289.089966</td>\n",
              "    </tr>\n",
              "    <tr>\n",
              "      <th>2</th>\n",
              "      <td>2012-01-17</td>\n",
              "      <td>60.671429</td>\n",
              "      <td>75.239998</td>\n",
              "      <td>30.250000</td>\n",
              "      <td>12.250000</td>\n",
              "      <td>181.660004</td>\n",
              "      <td>180.000000</td>\n",
              "      <td>26.600000</td>\n",
              "      <td>313.116364</td>\n",
              "      <td>1293.670044</td>\n",
              "    </tr>\n",
              "    <tr>\n",
              "      <th>3</th>\n",
              "      <td>2012-01-18</td>\n",
              "      <td>61.301430</td>\n",
              "      <td>75.059998</td>\n",
              "      <td>30.330000</td>\n",
              "      <td>12.730000</td>\n",
              "      <td>189.440002</td>\n",
              "      <td>181.070007</td>\n",
              "      <td>26.809999</td>\n",
              "      <td>315.273285</td>\n",
              "      <td>1308.040039</td>\n",
              "    </tr>\n",
              "    <tr>\n",
              "      <th>4</th>\n",
              "      <td>2012-01-19</td>\n",
              "      <td>61.107143</td>\n",
              "      <td>75.559998</td>\n",
              "      <td>30.420000</td>\n",
              "      <td>12.800000</td>\n",
              "      <td>194.449997</td>\n",
              "      <td>180.520004</td>\n",
              "      <td>26.760000</td>\n",
              "      <td>318.590851</td>\n",
              "      <td>1314.500000</td>\n",
              "    </tr>\n",
              "    <tr>\n",
              "      <th>...</th>\n",
              "      <td>...</td>\n",
              "      <td>...</td>\n",
              "      <td>...</td>\n",
              "      <td>...</td>\n",
              "      <td>...</td>\n",
              "      <td>...</td>\n",
              "      <td>...</td>\n",
              "      <td>...</td>\n",
              "      <td>...</td>\n",
              "      <td>...</td>\n",
              "    </tr>\n",
              "    <tr>\n",
              "      <th>2154</th>\n",
              "      <td>2020-08-05</td>\n",
              "      <td>440.250000</td>\n",
              "      <td>174.279999</td>\n",
              "      <td>29.850000</td>\n",
              "      <td>16.719999</td>\n",
              "      <td>3205.030029</td>\n",
              "      <td>125.449997</td>\n",
              "      <td>1485.020020</td>\n",
              "      <td>1473.609985</td>\n",
              "      <td>3327.770020</td>\n",
              "    </tr>\n",
              "    <tr>\n",
              "      <th>2155</th>\n",
              "      <td>2020-08-06</td>\n",
              "      <td>455.609985</td>\n",
              "      <td>172.199997</td>\n",
              "      <td>29.840000</td>\n",
              "      <td>18.459999</td>\n",
              "      <td>3225.000000</td>\n",
              "      <td>126.120003</td>\n",
              "      <td>1489.579956</td>\n",
              "      <td>1500.099976</td>\n",
              "      <td>3349.159912</td>\n",
              "    </tr>\n",
              "    <tr>\n",
              "      <th>2156</th>\n",
              "      <td>2020-08-07</td>\n",
              "      <td>444.450012</td>\n",
              "      <td>170.020004</td>\n",
              "      <td>30.020000</td>\n",
              "      <td>19.030001</td>\n",
              "      <td>3167.459961</td>\n",
              "      <td>124.959999</td>\n",
              "      <td>1452.709961</td>\n",
              "      <td>1494.489990</td>\n",
              "      <td>3351.280029</td>\n",
              "    </tr>\n",
              "    <tr>\n",
              "      <th>2157</th>\n",
              "      <td>2020-08-10</td>\n",
              "      <td>450.910004</td>\n",
              "      <td>179.410004</td>\n",
              "      <td>30.200001</td>\n",
              "      <td>21.650000</td>\n",
              "      <td>3148.159912</td>\n",
              "      <td>127.110001</td>\n",
              "      <td>1418.569946</td>\n",
              "      <td>1496.099976</td>\n",
              "      <td>3360.469971</td>\n",
              "    </tr>\n",
              "    <tr>\n",
              "      <th>2158</th>\n",
              "      <td>2020-08-11</td>\n",
              "      <td>437.500000</td>\n",
              "      <td>180.130005</td>\n",
              "      <td>30.200001</td>\n",
              "      <td>21.500000</td>\n",
              "      <td>3080.669922</td>\n",
              "      <td>126.750000</td>\n",
              "      <td>1374.390015</td>\n",
              "      <td>1480.319946</td>\n",
              "      <td>3333.689941</td>\n",
              "    </tr>\n",
              "  </tbody>\n",
              "</table>\n",
              "<p>2159 rows × 10 columns</p>\n",
              "</div>"
            ],
            "text/plain": [
              "            Date        AAPL          BA  ...         TSLA         GOOG        sp500\n",
              "0     2012-01-12   60.198570   75.510002  ...    28.250000   313.644379  1295.500000\n",
              "1     2012-01-13   59.972858   74.599998  ...    22.790001   311.328064  1289.089966\n",
              "2     2012-01-17   60.671429   75.239998  ...    26.600000   313.116364  1293.670044\n",
              "3     2012-01-18   61.301430   75.059998  ...    26.809999   315.273285  1308.040039\n",
              "4     2012-01-19   61.107143   75.559998  ...    26.760000   318.590851  1314.500000\n",
              "...          ...         ...         ...  ...          ...          ...          ...\n",
              "2154  2020-08-05  440.250000  174.279999  ...  1485.020020  1473.609985  3327.770020\n",
              "2155  2020-08-06  455.609985  172.199997  ...  1489.579956  1500.099976  3349.159912\n",
              "2156  2020-08-07  444.450012  170.020004  ...  1452.709961  1494.489990  3351.280029\n",
              "2157  2020-08-10  450.910004  179.410004  ...  1418.569946  1496.099976  3360.469971\n",
              "2158  2020-08-11  437.500000  180.130005  ...  1374.390015  1480.319946  3333.689941\n",
              "\n",
              "[2159 rows x 10 columns]"
            ]
          },
          "metadata": {
            "tags": []
          },
          "execution_count": 6
        }
      ]
    },
    {
      "cell_type": "markdown",
      "metadata": {
        "id": "QWiV9t_1IuUh"
      },
      "source": [
        "Understanding the contents of the data "
      ]
    },
    {
      "cell_type": "code",
      "metadata": {
        "id": "NrGRDA94Iofr",
        "outputId": "bf1a50ea-316f-4405-b7fa-14dcfc9f388b",
        "colab": {
          "base_uri": "https://localhost:8080/",
          "height": 34
        }
      },
      "source": [
        "# Print out the number of stocks\n",
        "print('Total Number of Stocks : {}'.format(len(stocks_df.columns[1:])))"
      ],
      "execution_count": 7,
      "outputs": [
        {
          "output_type": "stream",
          "text": [
            "Total Number of Stocks : 9\n"
          ],
          "name": "stdout"
        }
      ]
    },
    {
      "cell_type": "code",
      "metadata": {
        "id": "XXE9cd2OIta1",
        "outputId": "2d63b472-f465-4132-e0e9-5b4251b2f73b",
        "colab": {
          "base_uri": "https://localhost:8080/",
          "height": 170
        }
      },
      "source": [
        "# Print the name of stocks\n",
        "for i in stocks_df.columns[1:]:\n",
        "  print(i)\n",
        "  "
      ],
      "execution_count": 8,
      "outputs": [
        {
          "output_type": "stream",
          "text": [
            "AAPL\n",
            "BA\n",
            "T\n",
            "MGM\n",
            "AMZN\n",
            "IBM\n",
            "TSLA\n",
            "GOOG\n",
            "sp500\n"
          ],
          "name": "stdout"
        }
      ]
    },
    {
      "cell_type": "code",
      "metadata": {
        "id": "rtbh-B2SI8Yd",
        "outputId": "19fb3766-7163-4f58-e71b-9d61442a6186",
        "colab": {
          "base_uri": "https://localhost:8080/",
          "height": 204
        }
      },
      "source": [
        "# Check if data contains any null values\n",
        "stocks_df.isnull().sum()"
      ],
      "execution_count": 9,
      "outputs": [
        {
          "output_type": "execute_result",
          "data": {
            "text/plain": [
              "Date     0\n",
              "AAPL     0\n",
              "BA       0\n",
              "T        0\n",
              "MGM      0\n",
              "AMZN     0\n",
              "IBM      0\n",
              "TSLA     0\n",
              "GOOG     0\n",
              "sp500    0\n",
              "dtype: int64"
            ]
          },
          "metadata": {
            "tags": []
          },
          "execution_count": 9
        }
      ]
    },
    {
      "cell_type": "code",
      "metadata": {
        "id": "dymcKCwXJFJ4",
        "outputId": "a0e381f0-ca0c-4f3b-fa04-89e30c388526",
        "colab": {
          "base_uri": "https://localhost:8080/",
          "height": 306
        }
      },
      "source": [
        "# Getting dataframe info\n",
        "stocks_df.info()\n"
      ],
      "execution_count": 10,
      "outputs": [
        {
          "output_type": "stream",
          "text": [
            "<class 'pandas.core.frame.DataFrame'>\n",
            "Int64Index: 2159 entries, 0 to 2158\n",
            "Data columns (total 10 columns):\n",
            " #   Column  Non-Null Count  Dtype  \n",
            "---  ------  --------------  -----  \n",
            " 0   Date    2159 non-null   object \n",
            " 1   AAPL    2159 non-null   float64\n",
            " 2   BA      2159 non-null   float64\n",
            " 3   T       2159 non-null   float64\n",
            " 4   MGM     2159 non-null   float64\n",
            " 5   AMZN    2159 non-null   float64\n",
            " 6   IBM     2159 non-null   float64\n",
            " 7   TSLA    2159 non-null   float64\n",
            " 8   GOOG    2159 non-null   float64\n",
            " 9   sp500   2159 non-null   float64\n",
            "dtypes: float64(9), object(1)\n",
            "memory usage: 185.5+ KB\n"
          ],
          "name": "stdout"
        }
      ]
    },
    {
      "cell_type": "markdown",
      "metadata": {
        "id": "-xLH6UA0XcyK"
      },
      "source": [
        "Plotting the data\n"
      ]
    },
    {
      "cell_type": "code",
      "metadata": {
        "id": "opS3xN7LXhZ7"
      },
      "source": [
        "def show_plot(df, fig_title):\n",
        "  df.plot(x = 'Date', figsize = (15, 7), linewidth = 3, title = fig_title)\n",
        "  plt.grid()\n",
        "  plt.show()"
      ],
      "execution_count": null,
      "outputs": []
    },
    {
      "cell_type": "code",
      "metadata": {
        "id": "0hlBakPPXkM-"
      },
      "source": [
        "show_plot(stocks_df, 'RAW STOCK PRICES (WITHOUT NORMALISATION)')"
      ],
      "execution_count": null,
      "outputs": []
    },
    {
      "cell_type": "code",
      "metadata": {
        "id": "XpHyZJj9XoXv"
      },
      "source": [
        "def normalize(df):\n",
        "  x = df.copy()\n",
        "\n",
        "  # Loop through each stock (while ignoring time columns with index 0)\n",
        "  for i in x.columns[1:]:\n",
        "    x[i] = x[i]/x[i][0]\n",
        "  return x"
      ],
      "execution_count": null,
      "outputs": []
    },
    {
      "cell_type": "code",
      "metadata": {
        "id": "roZe1MDIXo84"
      },
      "source": [
        "show_plot(normalize(stocks_df), 'NORMALIZED STOCK PRICES')\n"
      ],
      "execution_count": null,
      "outputs": []
    },
    {
      "cell_type": "markdown",
      "metadata": {
        "id": "sQDI8KoJXtnT"
      },
      "source": [
        "Creating Interactive Data Visualisations\n",
        "\n"
      ]
    },
    {
      "cell_type": "code",
      "metadata": {
        "id": "zW5ndu2hXwXv"
      },
      "source": [
        "def interactive_plot(df, title):\n",
        "  fig = px.line(title = title)\n",
        "\n",
        "  for i in df.columns[1:]:\n",
        "    fig.add_scatter(x = df['Date'], y = df[i], name = i)\n",
        "\n",
        "  fig.show()"
      ],
      "execution_count": null,
      "outputs": []
    },
    {
      "cell_type": "code",
      "metadata": {
        "id": "Q1797WctX2Mw"
      },
      "source": [
        "interactive_plot(stocks_df,'Prices')"
      ],
      "execution_count": null,
      "outputs": []
    },
    {
      "cell_type": "code",
      "metadata": {
        "id": "lGTmfeILX4wb"
      },
      "source": [
        "interactive_plot(normalize(stocks_df), 'Prices (Normalised)')"
      ],
      "execution_count": null,
      "outputs": []
    },
    {
      "cell_type": "markdown",
      "metadata": {
        "id": "JyEGSxQCX_RU"
      },
      "source": [
        "Calculating Individual Stock Daily Return"
      ]
    },
    {
      "cell_type": "code",
      "metadata": {
        "id": "caSUGMAnYGgm"
      },
      "source": [
        "df = stocks_df['sp500']\n",
        "df"
      ],
      "execution_count": null,
      "outputs": []
    },
    {
      "cell_type": "code",
      "metadata": {
        "id": "0jNSZTvrYJbt"
      },
      "source": [
        "df_daily_return = df.copy()\n",
        "\n",
        "for i in range(1, len(df)):\n",
        "  df_daily_return[i] = ((df[i] - df[i - 1]) / df[i - 1]) * 100\n",
        "\n",
        "df_daily_return[0] = 0\n",
        "df_daily_return"
      ],
      "execution_count": null,
      "outputs": []
    },
    {
      "cell_type": "code",
      "metadata": {
        "id": "uvnaFMYZYNT8"
      },
      "source": [
        "df = stocks_df['AMZN']\n",
        "df\n",
        "\n",
        "df_daily_return = df.copy()\n",
        "\n",
        "for i in range(1, len(df)):\n",
        "  df_daily_return[i] = ((df[i] - df[i - 1]) / df[i - 1]) * 100\n",
        "\n",
        "df_daily_return[0] = 0\n",
        "df_daily_return"
      ],
      "execution_count": null,
      "outputs": []
    },
    {
      "cell_type": "markdown",
      "metadata": {
        "id": "9gbVJ6PDYPRY"
      },
      "source": [
        "Multiple Stock Daily Return\n"
      ]
    },
    {
      "cell_type": "code",
      "metadata": {
        "id": "tHCNvzHGYRo9"
      },
      "source": [
        "# define a function to calculate stocks daily returns (for all stocks) \n",
        "def daily_return(df):\n",
        "  df_daily_return = df.copy()\n",
        "\n",
        "#loop on columns (stocks)\n",
        "  for i in df.columns[1:]:\n",
        "    # loop on each row\n",
        "    for j in range(1, len(df)):\n",
        "      df_daily_return[i][j] = ((df[i][j] - df[i][j -1])/df[i][j -1] )* 100\n",
        "\n",
        "  df_daily_return[i][0] = 0\n",
        "  return df_daily_return"
      ],
      "execution_count": null,
      "outputs": []
    },
    {
      "cell_type": "code",
      "metadata": {
        "id": "gdUZONbkYVdL"
      },
      "source": [
        "# Get the daily returns \n",
        "stocks_daily_return = daily_return(stocks_df)\n",
        "stocks_daily_return"
      ],
      "execution_count": null,
      "outputs": []
    },
    {
      "cell_type": "code",
      "metadata": {
        "id": "aiBO76BJYX_1"
      },
      "source": [
        "interactive_plot(stocks_daily_return, 'RETURN VS TIME(INTERACTIVE)')\n"
      ],
      "execution_count": null,
      "outputs": []
    },
    {
      "cell_type": "markdown",
      "metadata": {
        "id": "_MuzhMazYenD"
      },
      "source": [
        "Calculating Correlations between Daily Returns"
      ]
    },
    {
      "cell_type": "code",
      "metadata": {
        "id": "mLO55JcXYkdx"
      },
      "source": [
        "# Daily Return Correlation\n",
        "cm = stocks_daily_return.drop(columns=['Date']).corr()"
      ],
      "execution_count": null,
      "outputs": []
    },
    {
      "cell_type": "code",
      "metadata": {
        "id": "a5teQpDQYm3M"
      },
      "source": [
        "plt.figure(figsize = (10, 10))\n",
        "sns.heatmap(cm, annot = True)"
      ],
      "execution_count": null,
      "outputs": []
    },
    {
      "cell_type": "markdown",
      "metadata": {
        "id": "N_Rv7Xj4YvXK"
      },
      "source": [
        "Plotting Histograms for Daily Returns\n",
        "\n",
        "\n",
        "> Seeing the standard deviation will help us understand the volatality and risk of the stock\n",
        "\n"
      ]
    },
    {
      "cell_type": "code",
      "metadata": {
        "id": "Ox3rvwLjYx9f"
      },
      "source": [
        "stocks_daily_return.hist(figsize = (10, 10), bins = 40);"
      ],
      "execution_count": null,
      "outputs": []
    },
    {
      "cell_type": "code",
      "metadata": {
        "id": "08BRb0utZJxz"
      },
      "source": [
        "df_hist = stocks_daily_return.copy()\n",
        "df_hist = df_hist.drop(columns =['Date'])\n",
        "\n",
        "data = []\n",
        "\n",
        "for i in df_hist.columns:\n",
        "  data.append(stocks_daily_return[i].values)\n",
        "\n",
        "data"
      ],
      "execution_count": null,
      "outputs": []
    },
    {
      "cell_type": "code",
      "metadata": {
        "id": "lT1GP3vMZMaZ"
      },
      "source": [
        "fig = ff.create_distplot(data, df_hist.columns)\n",
        "fig.show()"
      ],
      "execution_count": null,
      "outputs": []
    }
  ]
}